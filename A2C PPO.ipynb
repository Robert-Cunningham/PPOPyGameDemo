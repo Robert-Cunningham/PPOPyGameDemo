{
 "cells": [
  {
   "cell_type": "code",
   "execution_count": 2,
   "metadata": {},
   "outputs": [],
   "source": [
    "import gym\n",
    "import random\n",
    "#from torch import *\n",
    "import torch\n",
    "import numpy as np\n",
    "import torch.nn as nn\n",
    "import torch.nn.functional as F\n",
    "from copy import deepcopy"
   ]
  },
  {
   "cell_type": "code",
   "execution_count": 31,
   "metadata": {},
   "outputs": [],
   "source": [
    "env = gym.make('CartPole-v1')"
   ]
  },
  {
   "cell_type": "code",
   "execution_count": 34,
   "metadata": {},
   "outputs": [],
   "source": [
    "#env.spec.reward_threshold"
   ]
  },
  {
   "cell_type": "code",
   "execution_count": 21,
   "metadata": {},
   "outputs": [],
   "source": [
    "class RLModel(nn.Module):\n",
    "    def __init__(self):\n",
    "        super(RLModel, self).__init__()\n",
    "        self.linear1 = nn.Linear(4, 128)\n",
    "        self.drop1 = nn.Dropout(p=.4)\n",
    "        self.policy_head = nn.Linear(128, 2)\n",
    "        self.state_head = nn.Linear(128, 1)\n",
    "        \n",
    "        self.old_params = self.state_dict()\n",
    "    \n",
    "    def save(self):\n",
    "        self.old_params = deepcopy(self.state_dict())\n",
    "    \n",
    "    def old_forward(self, x):\n",
    "        current_params = deepcopy(self.state_dict())\n",
    "        self.load_state_dict(self.old_params)\n",
    "        #print('old', self.state_dict()['linear1.weight'][0])\n",
    "        out = self.forward(x)\n",
    "        self.load_state_dict(current_params)\n",
    "        #print('current', self.state_dict()['linear1.weight'][0])\n",
    "        return out\n",
    "        \n",
    "    def forward(self, x):\n",
    "        #print('current', self.state_dict()['linear1.weight'][0])\n",
    "        x = self.linear1(x)\n",
    "        x = self.drop1(x)\n",
    "        neck = F.relu(x)\n",
    "        policy_out = F.softmax(self.policy_head(neck), dim=-1)\n",
    "        state_out = F.sigmoid(self.state_head(neck)) \n",
    "        \n",
    "        return policy_out, state_out\n",
    "    The observation of a 3-tuple of: the players current sum,\n",
    "    the dealer's one showing card (1-10 where 1 is ace),\n",
    "    and whether or not the player holds a usable ace (0 or 1).\n",
    "\n",
    "    The observation of a 3-tuple of: the players current sum,\n",
    "    the dealer's one showing card (1-10 where 1 is ace),\n",
    "    and whether or not the player holds a usable ace (0 or 1).\n"
   ]
  },
  {
   "cell_type": "code",
   "execution_count": 22,
   "metadata": {},
   "outputs": [],
   "source": [
    "gamma = .99"
   ]
  },
  {
   "cell_type": "code",
   "execution_count": 24,
   "metadata": {},
   "outputs": [],
   "source": [
    "def one_episode(my_model):\n",
    "    observation = np.array(env.reset())\n",
    "\n",
    "    loss = []\n",
    "    old_loss = []\n",
    "    rewards = []\n",
    "    state_guesses = []\n",
    "\n",
    "    for i in range(1000):\n",
    "        probs, state_guess = my_model(torch.from_numpy(observation).float())\n",
    "        probs_old, _ = my_model.old_forward(torch.from_numpy(observation).float())\n",
    "        #env.render()\n",
    "        #env.action_space.sample()\n",
    "        \n",
    "        np_probs = probs.detach().numpy()\n",
    "        np_probs_old = probs_old.detach().numpy()\n",
    "        \n",
    "        action = np.random.choice([0, 1], 1, p=(np_probs/sum(np_probs)))[0]\n",
    "        loss.append(torch.log(probs[action]))\n",
    "        old_loss.append(torch.log(probs_old[action]))\n",
    "        state_guesses.append(state_guess)\n",
    "        \n",
    "        observation, reward, done, _ = env.step(action)\n",
    "        #print(observation, reward, done)\n",
    "        observation = np.array(observation)\n",
    "        rewards.append(reward)\n",
    "        #print(observation, done, reward, info)\n",
    "\n",
    "        if done:\n",
    "            break\n",
    "            \n",
    "    for i in range(len(rewards)-1, -1, -1):\n",
    "        rewards[i] = rewards[i] + (rewards[i+1] * gamma) if i != len(rewards)-1 else 1\n",
    "    \n",
    "    return rewards, loss, old_loss, state_guesses"
   ]
  },
  {
   "cell_type": "code",
   "execution_count": 29,
   "metadata": {},
   "outputs": [],
   "source": [
    "def train_loop():\n",
    "    \n",
    "    my_model = RLModel()\n",
    "    optimizer = torch.optim.Adam(my_model.parameters(), lr=0.001)\n",
    "    \n",
    "    running_mean = 0\n",
    "    \n",
    "    for i in range(100000):\n",
    "        rewards, loss, old_loss, state_guesses = one_episode(my_model)\n",
    "        \n",
    "        #print(loss, old_loss)\n",
    "        \n",
    "        running_mean = running_mean * .99 + len(rewards) * .01\n",
    "        \n",
    "        if i%100 == 0:\n",
    "            print(running_mean)\n",
    "        \n",
    "        loss = torch.stack(loss)\n",
    "        old_loss = torch.stack(old_loss).detach()\n",
    "\n",
    "        rewards = np.array(rewards)\n",
    "        rewards = (rewards - rewards.mean()) / (rewards.std() + 0.00001)\n",
    "        \n",
    "        rewards = torch.from_numpy(rewards).float()\n",
    "        \n",
    "        advantages = rewards - torch.stack(state_guesses)\n",
    "        \n",
    "        my_model.save()\n",
    "        \n",
    "        epsilon = .2\n",
    "        \n",
    "        optimizer.zero_grad()\n",
    "        #ratio = torch.ones_like(loss)\n",
    "        ratio = torch.exp(loss - old_loss)\n",
    "        \n",
    "        #print(ratio)\n",
    "        #print(ratio)\n",
    "        surr1 = ratio * advantages\n",
    "        surr2 = torch.clamp(ratio, 1 - epsilon, 1 + epsilon) * advantages\n",
    "        #print(surr1, surr2)\n",
    "        \n",
    "        policy_loss = -1 * torch.min(surr1, surr2).mean()\n",
    "        state_loss = F.mse_loss(advantages, torch.zeros_like(advantages))\n",
    "        \n",
    "        final_loss = state_loss + policy_loss\n",
    "        #policy_surr = -1 * surr1.mean()\n",
    "        \n",
    "        torch.nn.utils.clip_grad_norm_(my_model.parameters(), 30)\n",
    "        \n",
    "        final_loss.backward()\n",
    "        #reduced_loss.backward()\n",
    "        optimizer.step()"
   ]
  },
  {
   "cell_type": "code",
   "execution_count": 30,
   "metadata": {
    "scrolled": false
   },
   "outputs": [
    {
     "name": "stdout",
     "output_type": "stream",
     "text": [
      "0.1\n",
      "14.581927861594293\n",
      "26.353360867476553\n",
      "34.59849578361196\n",
      "55.05122031435293\n",
      "78.58662390820649\n",
      "122.5300242584199\n",
      "154.27544177908118\n",
      "195.31898246695482\n",
      "271.84679708988887\n",
      "295.0624660816676\n",
      "303.15978895888816\n",
      "333.2195635556552\n",
      "287.16826255859166\n",
      "282.3462658855182\n",
      "303.02769418263483\n",
      "329.1238089232835\n",
      "389.5035290354416\n",
      "348.44584336083744\n",
      "329.28486531817117\n"
     ]
    },
    {
     "ename": "KeyboardInterrupt",
     "evalue": "",
     "output_type": "error",
     "traceback": [
      "\u001b[0;31m---------------------------------------------------------------------------\u001b[0m",
      "\u001b[0;31mKeyboardInterrupt\u001b[0m                         Traceback (most recent call last)",
      "\u001b[0;32m<ipython-input-30-6590b82f66d8>\u001b[0m in \u001b[0;36m<module>\u001b[0;34m()\u001b[0m\n\u001b[0;32m----> 1\u001b[0;31m \u001b[0mtrain_loop\u001b[0m\u001b[0;34m(\u001b[0m\u001b[0;34m)\u001b[0m\u001b[0;34m\u001b[0m\u001b[0m\n\u001b[0m",
      "\u001b[0;32m<ipython-input-29-100a3fd18527>\u001b[0m in \u001b[0;36mtrain_loop\u001b[0;34m()\u001b[0m\n\u001b[1;32m      7\u001b[0m \u001b[0;34m\u001b[0m\u001b[0m\n\u001b[1;32m      8\u001b[0m     \u001b[0;32mfor\u001b[0m \u001b[0mi\u001b[0m \u001b[0;32min\u001b[0m \u001b[0mrange\u001b[0m\u001b[0;34m(\u001b[0m\u001b[0;36m100000\u001b[0m\u001b[0;34m)\u001b[0m\u001b[0;34m:\u001b[0m\u001b[0;34m\u001b[0m\u001b[0m\n\u001b[0;32m----> 9\u001b[0;31m         \u001b[0mrewards\u001b[0m\u001b[0;34m,\u001b[0m \u001b[0mloss\u001b[0m\u001b[0;34m,\u001b[0m \u001b[0mold_loss\u001b[0m\u001b[0;34m,\u001b[0m \u001b[0mstate_guesses\u001b[0m \u001b[0;34m=\u001b[0m \u001b[0mone_episode\u001b[0m\u001b[0;34m(\u001b[0m\u001b[0mmy_model\u001b[0m\u001b[0;34m)\u001b[0m\u001b[0;34m\u001b[0m\u001b[0m\n\u001b[0m\u001b[1;32m     10\u001b[0m \u001b[0;34m\u001b[0m\u001b[0m\n\u001b[1;32m     11\u001b[0m         \u001b[0;31m#print(loss, old_loss)\u001b[0m\u001b[0;34m\u001b[0m\u001b[0;34m\u001b[0m\u001b[0m\n",
      "\u001b[0;32m<ipython-input-24-315eb8509480>\u001b[0m in \u001b[0;36mone_episode\u001b[0;34m(my_model)\u001b[0m\n\u001b[1;32m     16\u001b[0m         \u001b[0mnp_probs_old\u001b[0m \u001b[0;34m=\u001b[0m \u001b[0mprobs_old\u001b[0m\u001b[0;34m.\u001b[0m\u001b[0mdetach\u001b[0m\u001b[0;34m(\u001b[0m\u001b[0;34m)\u001b[0m\u001b[0;34m.\u001b[0m\u001b[0mnumpy\u001b[0m\u001b[0;34m(\u001b[0m\u001b[0;34m)\u001b[0m\u001b[0;34m\u001b[0m\u001b[0m\n\u001b[1;32m     17\u001b[0m \u001b[0;34m\u001b[0m\u001b[0m\n\u001b[0;32m---> 18\u001b[0;31m         \u001b[0maction\u001b[0m \u001b[0;34m=\u001b[0m \u001b[0mnp\u001b[0m\u001b[0;34m.\u001b[0m\u001b[0mrandom\u001b[0m\u001b[0;34m.\u001b[0m\u001b[0mchoice\u001b[0m\u001b[0;34m(\u001b[0m\u001b[0;34m[\u001b[0m\u001b[0;36m0\u001b[0m\u001b[0;34m,\u001b[0m \u001b[0;36m1\u001b[0m\u001b[0;34m]\u001b[0m\u001b[0;34m,\u001b[0m \u001b[0;36m1\u001b[0m\u001b[0;34m,\u001b[0m \u001b[0mp\u001b[0m\u001b[0;34m=\u001b[0m\u001b[0;34m(\u001b[0m\u001b[0mnp_probs\u001b[0m\u001b[0;34m/\u001b[0m\u001b[0msum\u001b[0m\u001b[0;34m(\u001b[0m\u001b[0mnp_probs\u001b[0m\u001b[0;34m)\u001b[0m\u001b[0;34m)\u001b[0m\u001b[0;34m)\u001b[0m\u001b[0;34m[\u001b[0m\u001b[0;36m0\u001b[0m\u001b[0;34m]\u001b[0m\u001b[0;34m\u001b[0m\u001b[0m\n\u001b[0m\u001b[1;32m     19\u001b[0m         \u001b[0mloss\u001b[0m\u001b[0;34m.\u001b[0m\u001b[0mappend\u001b[0m\u001b[0;34m(\u001b[0m\u001b[0mtorch\u001b[0m\u001b[0;34m.\u001b[0m\u001b[0mlog\u001b[0m\u001b[0;34m(\u001b[0m\u001b[0mprobs\u001b[0m\u001b[0;34m[\u001b[0m\u001b[0maction\u001b[0m\u001b[0;34m]\u001b[0m\u001b[0;34m)\u001b[0m\u001b[0;34m)\u001b[0m\u001b[0;34m\u001b[0m\u001b[0m\n\u001b[1;32m     20\u001b[0m         \u001b[0mold_loss\u001b[0m\u001b[0;34m.\u001b[0m\u001b[0mappend\u001b[0m\u001b[0;34m(\u001b[0m\u001b[0mtorch\u001b[0m\u001b[0;34m.\u001b[0m\u001b[0mlog\u001b[0m\u001b[0;34m(\u001b[0m\u001b[0mprobs_old\u001b[0m\u001b[0;34m[\u001b[0m\u001b[0maction\u001b[0m\u001b[0;34m]\u001b[0m\u001b[0;34m)\u001b[0m\u001b[0;34m)\u001b[0m\u001b[0;34m\u001b[0m\u001b[0m\n",
      "\u001b[0;32mmtrand.pyx\u001b[0m in \u001b[0;36mmtrand.RandomState.choice\u001b[0;34m()\u001b[0m\n",
      "\u001b[0;32m~/anaconda3/envs/fastai/lib/python3.6/site-packages/numpy/core/numerictypes.py\u001b[0m in \u001b[0;36missubdtype\u001b[0;34m(arg1, arg2)\u001b[0m\n\u001b[1;32m    685\u001b[0m     \u001b[0;32mreturn\u001b[0m \u001b[0missubclass\u001b[0m\u001b[0;34m(\u001b[0m\u001b[0mobj2sctype\u001b[0m\u001b[0;34m(\u001b[0m\u001b[0marg1\u001b[0m\u001b[0;34m)\u001b[0m\u001b[0;34m,\u001b[0m \u001b[0mobj2sctype\u001b[0m\u001b[0;34m(\u001b[0m\u001b[0marg2\u001b[0m\u001b[0;34m)\u001b[0m\u001b[0;34m)\u001b[0m\u001b[0;34m\u001b[0m\u001b[0m\n\u001b[1;32m    686\u001b[0m \u001b[0;34m\u001b[0m\u001b[0m\n\u001b[0;32m--> 687\u001b[0;31m \u001b[0;32mdef\u001b[0m \u001b[0missubdtype\u001b[0m\u001b[0;34m(\u001b[0m\u001b[0marg1\u001b[0m\u001b[0;34m,\u001b[0m \u001b[0marg2\u001b[0m\u001b[0;34m)\u001b[0m\u001b[0;34m:\u001b[0m\u001b[0;34m\u001b[0m\u001b[0m\n\u001b[0m\u001b[1;32m    688\u001b[0m     \"\"\"\n\u001b[1;32m    689\u001b[0m     \u001b[0mReturns\u001b[0m \u001b[0;32mTrue\u001b[0m \u001b[0;32mif\u001b[0m \u001b[0mfirst\u001b[0m \u001b[0margument\u001b[0m \u001b[0;32mis\u001b[0m \u001b[0ma\u001b[0m \u001b[0mtypecode\u001b[0m \u001b[0mlower\u001b[0m\u001b[0;34m/\u001b[0m\u001b[0mequal\u001b[0m \u001b[0;32min\u001b[0m \u001b[0mtype\u001b[0m \u001b[0mhierarchy\u001b[0m\u001b[0;34m.\u001b[0m\u001b[0;34m\u001b[0m\u001b[0m\n",
      "\u001b[0;31mKeyboardInterrupt\u001b[0m: "
     ]
    }
   ],
   "source": [
    "train_loop()"
   ]
  },
  {
   "cell_type": "code",
   "execution_count": null,
   "metadata": {},
   "outputs": [],
   "source": []
  }
 ],
 "metadata": {
  "kernelspec": {
   "display_name": "Python 3",
   "language": "python",
   "name": "python3"
  },
  "language_info": {
   "codemirror_mode": {
    "name": "ipython",
    "version": 3
   },
   "file_extension": ".py",
   "mimetype": "text/x-python",
   "name": "python",
   "nbconvert_exporter": "python",
   "pygments_lexer": "ipython3",
   "version": "3.6.5"
  }
 },
 "nbformat": 4,
 "nbformat_minor": 2
}
