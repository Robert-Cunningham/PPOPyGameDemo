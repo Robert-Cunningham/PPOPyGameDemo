{
 "cells": [
  {
   "cell_type": "code",
   "execution_count": 1,
   "metadata": {},
   "outputs": [],
   "source": [
    "import gym\n",
    "import random\n",
    "#from torch import *\n",
    "import torch\n",
    "import numpy as np\n",
    "import torch.nn as nn\n",
    "import torch.nn.functional as F\n",
    "from copy import deepcopy"
   ]
  },
  {
   "cell_type": "code",
   "execution_count": 2,
   "metadata": {},
   "outputs": [
    {
     "name": "stdout",
     "output_type": "stream",
     "text": [
      "pygame 1.9.4\n",
      "Hello from the pygame community. https://www.pygame.org/contribute.html\n"
     ]
    }
   ],
   "source": [
    "from game_main import *"
   ]
  },
  {
   "cell_type": "code",
   "execution_count": 3,
   "metadata": {},
   "outputs": [],
   "source": [
    "env = BestGameEver()"
   ]
  },
  {
   "cell_type": "code",
   "execution_count": 4,
   "metadata": {},
   "outputs": [],
   "source": [
    "#env = gym.make('CartPole-v1')"
   ]
  },
  {
   "cell_type": "code",
   "execution_count": 5,
   "metadata": {},
   "outputs": [],
   "source": [
    "#env.spec.reward_threshold"
   ]
  },
  {
   "cell_type": "code",
   "execution_count": 6,
   "metadata": {},
   "outputs": [],
   "source": [
    "class RLModel(nn.Module):\n",
    "    def __init__(self):\n",
    "        super(RLModel, self).__init__()\n",
    "        self.linear1 = nn.Linear(34, 128)\n",
    "        self.drop1 = nn.Dropout(p=.4)\n",
    "        self.linear2 = nn.Linear(128, 4)\n",
    "        \n",
    "        self.old_params = self.state_dict()\n",
    "    \n",
    "    def save(self):\n",
    "        self.old_params = deepcopy(self.state_dict())\n",
    "    \n",
    "    def old_forward(self, x):\n",
    "        current_params = deepcopy(self.state_dict())\n",
    "        self.load_state_dict(self.old_params)\n",
    "        #print('old', self.state_dict()['linear1.weight'][0])\n",
    "        out = self.forward(x)\n",
    "        self.load_state_dict(current_params)\n",
    "        #print('current', self.state_dict()['linear1.weight'][0])\n",
    "        return out\n",
    "        \n",
    "    def forward(self, x):\n",
    "        #print('current', self.state_dict()['linear1.weight'][0])\n",
    "        x = self.linear1(x)\n",
    "        x = self.drop1(x)\n",
    "        x = F.relu(x)\n",
    "        x = self.linear2(x)\n",
    "        x = F.softmax(x, dim=-1)\n",
    "        \n",
    "        return x"
   ]
  },
  {
   "cell_type": "code",
   "execution_count": 7,
   "metadata": {},
   "outputs": [],
   "source": [
    "gamma = .99"
   ]
  },
  {
   "cell_type": "code",
   "execution_count": 8,
   "metadata": {},
   "outputs": [],
   "source": [
    "def one_episode(my_model, speed=False):\n",
    "    observation = np.array(env.reset())\n",
    "    print(speed)\n",
    "\n",
    "    loss = []\n",
    "    old_loss = []\n",
    "    rewards = []\n",
    "\n",
    "    for i in range(1000):\n",
    "        probs = my_model(torch.from_numpy(observation).float())\n",
    "        probs_old = my_model.old_forward(torch.from_numpy(observation).float())\n",
    "        #env.render()\n",
    "        #env.action_space.sample()\n",
    "        \n",
    "        np_probs = probs.detach().numpy()\n",
    "        np_probs_old = probs_old.detach().numpy()\n",
    "        \n",
    "        action = np.random.choice([0, 1, 2, 3], 1, p=(np_probs/sum(np_probs)))[0]\n",
    "        loss.append(torch.log(probs[action]))\n",
    "        old_loss.append(torch.log(probs_old[action]))\n",
    "        \n",
    "        #print(probs, action, old_loss[-1])\n",
    "        #print(old_loss)\n",
    "        #action = random.choice([0, 1])\n",
    "        #observation, reward, done, info = env.step(action) # take a random action\n",
    "        observation, reward, done = env.step(action, speed)\n",
    "        #print(observation, reward, done)\n",
    "        observation = np.array(observation)\n",
    "        rewards.append(reward)\n",
    "        #print(observation, done, reward, info)\n",
    "\n",
    "        if done:\n",
    "            break\n",
    "            \n",
    "    for i in range(len(rewards)-1, -1, -1):\n",
    "        rewards[i] = rewards[i] + (rewards[i+1] * gamma) if i != len(rewards)-1 else 1\n",
    "    \n",
    "    return rewards, loss, old_loss"
   ]
  },
  {
   "cell_type": "code",
   "execution_count": 9,
   "metadata": {},
   "outputs": [],
   "source": [
    "def train_loop():\n",
    "    \n",
    "    my_model = RLModel()\n",
    "    optimizer = torch.optim.Adam(my_model.parameters(), lr=0.01)\n",
    "    \n",
    "    running_mean = 0\n",
    "    \n",
    "    for i in range(100000):\n",
    "        rewards, loss, old_loss = one_episode(my_model, speed=abs(running_mean - 1) < .1)\n",
    "        \n",
    "        #print(loss, old_loss)\n",
    "        \n",
    "        running_mean = running_mean * .99 + len(rewards) * .01\n",
    "        \n",
    "        if i%100 == 0:\n",
    "            print(running_mean)\n",
    "        \n",
    "        \n",
    "        loss = torch.stack(loss)\n",
    "        old_loss = torch.stack(old_loss).detach()\n",
    "\n",
    "        rewards = np.array(rewards)\n",
    "        rewards = (rewards - rewards.mean()) / (rewards.std() + 0.00001)\n",
    "        \n",
    "        rewards = torch.from_numpy(rewards).float()\n",
    "        \n",
    "        #print(rewards)\n",
    "\n",
    "        #my_model.save()\n",
    "\n",
    "        #optimizer.zero_grad()\n",
    "        #reduced_loss = -1 * torch.mean((loss * rewards))\n",
    "        #reduced_loss = -1 * torch.mean(torch.exp(loss - old_loss) * rewards)\n",
    "        \n",
    "        \n",
    "        #reduced_old_loss = -1 * torch.mean((old_loss * rewards))\n",
    "        \n",
    "        #print(reduced_loss)\n",
    "        #reduced_loss.backward()\n",
    "        #optimizer.step()\n",
    "        #continue\n",
    "        \n",
    "        my_model.save()\n",
    "        \n",
    "        epsilon = .2\n",
    "        \n",
    "        optimizer.zero_grad()\n",
    "        #ratio = torch.ones_like(loss)\n",
    "        ratio = torch.exp(loss - old_loss)\n",
    "        \n",
    "        #print(ratio)\n",
    "        #print(ratio)\n",
    "        surr1 = ratio * rewards\n",
    "        surr2 = torch.clamp(ratio, 1 - epsilon, 1 + epsilon) * rewards\n",
    "        #print(surr1, surr2)\n",
    "        \n",
    "        policy_surr = -1 * torch.min(surr1, surr2).mean()\n",
    "        #policy_surr = -1 * surr1.mean()\n",
    "        \n",
    "        torch.nn.utils.clip_grad_norm_(my_model.parameters(), 30)\n",
    "        \n",
    "        policy_surr.backward()\n",
    "        #reduced_loss.backward()\n",
    "        optimizer.step()"
   ]
  },
  {
   "cell_type": "code",
   "execution_count": 10,
   "metadata": {
    "scrolled": false
   },
   "outputs": [
    {
     "name": "stdout",
     "output_type": "stream",
     "text": [
      "False\n",
      "We win, motherfucker\n",
      "1.82\n",
      "False\n",
      "We win, motherfucker\n",
      "False\n",
      "False\n",
      "False\n",
      "False\n",
      "False\n",
      "False\n",
      "False\n",
      "False\n",
      "False\n",
      "False\n",
      "False\n",
      "False\n",
      "False\n",
      "False\n",
      "False\n"
     ]
    },
    {
     "ename": "KeyboardInterrupt",
     "evalue": "",
     "output_type": "error",
     "traceback": [
      "\u001b[0;31m---------------------------------------------------------------------------\u001b[0m",
      "\u001b[0;31mKeyboardInterrupt\u001b[0m                         Traceback (most recent call last)",
      "\u001b[0;32m<ipython-input-10-6590b82f66d8>\u001b[0m in \u001b[0;36m<module>\u001b[0;34m()\u001b[0m\n\u001b[0;32m----> 1\u001b[0;31m \u001b[0mtrain_loop\u001b[0m\u001b[0;34m(\u001b[0m\u001b[0;34m)\u001b[0m\u001b[0;34m\u001b[0m\u001b[0m\n\u001b[0m",
      "\u001b[0;32m<ipython-input-9-b49b5b437c0c>\u001b[0m in \u001b[0;36mtrain_loop\u001b[0;34m()\u001b[0m\n\u001b[1;32m      7\u001b[0m \u001b[0;34m\u001b[0m\u001b[0m\n\u001b[1;32m      8\u001b[0m     \u001b[0;32mfor\u001b[0m \u001b[0mi\u001b[0m \u001b[0;32min\u001b[0m \u001b[0mrange\u001b[0m\u001b[0;34m(\u001b[0m\u001b[0;36m100000\u001b[0m\u001b[0;34m)\u001b[0m\u001b[0;34m:\u001b[0m\u001b[0;34m\u001b[0m\u001b[0m\n\u001b[0;32m----> 9\u001b[0;31m         \u001b[0mrewards\u001b[0m\u001b[0;34m,\u001b[0m \u001b[0mloss\u001b[0m\u001b[0;34m,\u001b[0m \u001b[0mold_loss\u001b[0m \u001b[0;34m=\u001b[0m \u001b[0mone_episode\u001b[0m\u001b[0;34m(\u001b[0m\u001b[0mmy_model\u001b[0m\u001b[0;34m,\u001b[0m \u001b[0mspeed\u001b[0m\u001b[0;34m=\u001b[0m\u001b[0mabs\u001b[0m\u001b[0;34m(\u001b[0m\u001b[0mrunning_mean\u001b[0m \u001b[0;34m-\u001b[0m \u001b[0;36m1\u001b[0m\u001b[0;34m)\u001b[0m \u001b[0;34m<\u001b[0m \u001b[0;36m.1\u001b[0m\u001b[0;34m)\u001b[0m\u001b[0;34m\u001b[0m\u001b[0m\n\u001b[0m\u001b[1;32m     10\u001b[0m \u001b[0;34m\u001b[0m\u001b[0m\n\u001b[1;32m     11\u001b[0m         \u001b[0;31m#print(loss, old_loss)\u001b[0m\u001b[0;34m\u001b[0m\u001b[0;34m\u001b[0m\u001b[0m\n",
      "\u001b[0;32m<ipython-input-8-c6cefefa0c73>\u001b[0m in \u001b[0;36mone_episode\u001b[0;34m(my_model, speed)\u001b[0m\n\u001b[1;32m     24\u001b[0m         \u001b[0;31m#action = random.choice([0, 1])\u001b[0m\u001b[0;34m\u001b[0m\u001b[0;34m\u001b[0m\u001b[0m\n\u001b[1;32m     25\u001b[0m         \u001b[0;31m#observation, reward, done, info = env.step(action) # take a random action\u001b[0m\u001b[0;34m\u001b[0m\u001b[0;34m\u001b[0m\u001b[0m\n\u001b[0;32m---> 26\u001b[0;31m         \u001b[0mobservation\u001b[0m\u001b[0;34m,\u001b[0m \u001b[0mreward\u001b[0m\u001b[0;34m,\u001b[0m \u001b[0mdone\u001b[0m \u001b[0;34m=\u001b[0m \u001b[0menv\u001b[0m\u001b[0;34m.\u001b[0m\u001b[0mstep\u001b[0m\u001b[0;34m(\u001b[0m\u001b[0maction\u001b[0m\u001b[0;34m,\u001b[0m \u001b[0mspeed\u001b[0m\u001b[0;34m)\u001b[0m\u001b[0;34m\u001b[0m\u001b[0m\n\u001b[0m\u001b[1;32m     27\u001b[0m         \u001b[0;31m#print(observation, reward, done)\u001b[0m\u001b[0;34m\u001b[0m\u001b[0;34m\u001b[0m\u001b[0m\n\u001b[1;32m     28\u001b[0m         \u001b[0mobservation\u001b[0m \u001b[0;34m=\u001b[0m \u001b[0mnp\u001b[0m\u001b[0;34m.\u001b[0m\u001b[0marray\u001b[0m\u001b[0;34m(\u001b[0m\u001b[0mobservation\u001b[0m\u001b[0;34m)\u001b[0m\u001b[0;34m\u001b[0m\u001b[0m\n",
      "\u001b[0;32m~/Documents/liarspoker/game_main.py\u001b[0m in \u001b[0;36mstep\u001b[0;34m(self, move, slow)\u001b[0m\n\u001b[1;32m    104\u001b[0m         \u001b[0;32mif\u001b[0m \u001b[0mslow\u001b[0m \u001b[0;32mor\u001b[0m \u001b[0;32mTrue\u001b[0m\u001b[0;34m:\u001b[0m\u001b[0;34m\u001b[0m\u001b[0m\n\u001b[1;32m    105\u001b[0m             \u001b[0;31m#time.sleep(.05)\u001b[0m\u001b[0;34m\u001b[0m\u001b[0;34m\u001b[0m\u001b[0m\n\u001b[0;32m--> 106\u001b[0;31m             \u001b[0mpygame\u001b[0m\u001b[0;34m.\u001b[0m\u001b[0mtime\u001b[0m\u001b[0;34m.\u001b[0m\u001b[0mdelay\u001b[0m\u001b[0;34m(\u001b[0m\u001b[0;36m5\u001b[0m\u001b[0;34m)\u001b[0m\u001b[0;34m\u001b[0m\u001b[0m\n\u001b[0m\u001b[1;32m    107\u001b[0m \u001b[0;34m\u001b[0m\u001b[0m\n\u001b[1;32m    108\u001b[0m \u001b[0;34m\u001b[0m\u001b[0m\n",
      "\u001b[0;31mKeyboardInterrupt\u001b[0m: "
     ]
    }
   ],
   "source": [
    "train_loop()"
   ]
  },
  {
   "cell_type": "code",
   "execution_count": null,
   "metadata": {},
   "outputs": [],
   "source": []
  }
 ],
 "metadata": {
  "kernelspec": {
   "display_name": "Python 3",
   "language": "python",
   "name": "python3"
  },
  "language_info": {
   "codemirror_mode": {
    "name": "ipython",
    "version": 3
   },
   "file_extension": ".py",
   "mimetype": "text/x-python",
   "name": "python",
   "nbconvert_exporter": "python",
   "pygments_lexer": "ipython3",
   "version": "3.6.5"
  }
 },
 "nbformat": 4,
 "nbformat_minor": 2
}
